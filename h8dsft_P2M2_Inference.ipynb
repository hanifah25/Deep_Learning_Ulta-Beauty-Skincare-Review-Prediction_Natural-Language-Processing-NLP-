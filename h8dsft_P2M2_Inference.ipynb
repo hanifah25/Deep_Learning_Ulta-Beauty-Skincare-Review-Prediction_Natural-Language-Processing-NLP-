{
 "cells": [
  {
   "cell_type": "code",
   "execution_count": 2,
   "metadata": {},
   "outputs": [
    {
     "name": "stderr",
     "output_type": "stream",
     "text": [
      "[nltk_data] Downloading package punkt to\n",
      "[nltk_data]     C:\\Users\\Hanifah\\AppData\\Roaming\\nltk_data...\n",
      "[nltk_data]   Package punkt is already up-to-date!\n",
      "[nltk_data] Downloading package wordnet to\n",
      "[nltk_data]     C:\\Users\\Hanifah\\AppData\\Roaming\\nltk_data...\n",
      "[nltk_data]   Package wordnet is already up-to-date!\n",
      "[nltk_data] Downloading package omw-1.4 to\n",
      "[nltk_data]     C:\\Users\\Hanifah\\AppData\\Roaming\\nltk_data...\n",
      "[nltk_data]   Package omw-1.4 is already up-to-date!\n",
      "[nltk_data] Downloading package stopwords to\n",
      "[nltk_data]     C:\\Users\\Hanifah\\AppData\\Roaming\\nltk_data...\n",
      "[nltk_data]   Package stopwords is already up-to-date!\n",
      "[nltk_data] Error loading tokenizers: Package 'tokenizers' not found\n",
      "[nltk_data]     in index\n"
     ]
    },
    {
     "data": {
      "text/plain": [
       "False"
      ]
     },
     "execution_count": 2,
     "metadata": {},
     "output_type": "execute_result"
    }
   ],
   "source": [
    "#import library\n",
    "import pandas as pd\n",
    "import numpy as np\n",
    "import joblib\n",
    "import tensorflow as tf\n",
    "import nltk\n",
    "from nltk.tokenize import word_tokenize\n",
    "from nltk.stem import WordNetLemmatizer\n",
    "from nltk.corpus import stopwords\n",
    "import re\n",
    "import string\n",
    "import ast\n",
    "from tensorflow.keras.models import load_model\n",
    "\n",
    "nltk.download('punkt')\n",
    "nltk.download(\"wordnet\")\n",
    "nltk.download(\"omw-1.4\")\n",
    "nltk.download('stopwords')\n",
    "nltk.download('tokenizers')\n"
   ]
  },
  {
   "cell_type": "code",
   "execution_count": 3,
   "metadata": {},
   "outputs": [],
   "source": [
    "from tensorflow.keras.models import load_model\n",
    "model_dnn = load_model('model_lstm')"
   ]
  },
  {
   "cell_type": "code",
   "execution_count": 4,
   "metadata": {},
   "outputs": [],
   "source": [
    "#open chatwords.txt\n",
    "with open('chatwords.txt') as f:\n",
    "    data = f.read()\n",
    "chatwords =  ast.literal_eval(data)\n",
    "chatwords\n",
    "\n",
    "#open abbreviation.txt\n",
    "with open('abbreviation.txt') as ab:\n",
    "    ab2 = ab.read()\n",
    "abbreviation =  ast.literal_eval(ab2)\n",
    "abbreviation\n",
    "\n",
    "#define stopwords\n",
    "stop_words = stopwords.words('english')\n",
    "\n",
    "#define lemmatizer\n",
    "lem = WordNetLemmatizer()\n",
    "def check_chatwords(text):\n",
    "    temp=[]\n",
    "    for chat in text.split():\n",
    "        if chat.upper() in chatwords:\n",
    "            temp.append(chatwords[chat.upper()])\n",
    "        else:\n",
    "            temp.append(chat)\n",
    "    return \" \".join(temp)"
   ]
  },
  {
   "cell_type": "code",
   "execution_count": 5,
   "metadata": {},
   "outputs": [],
   "source": [
    "def lower(text):\n",
    "    data = text.lower()\n",
    "    return data \n",
    "\n",
    "def check_abbr(text):\n",
    "    temp2=[]\n",
    "    for abbr in text.split():\n",
    "      if abbr in abbreviation:\n",
    "          temp2.append(abbreviation[abbr])\n",
    "      else:\n",
    "          temp2.append(abbr)\n",
    "\n",
    "    return \" \".join(temp2)\n",
    "\n",
    "def check_punctuation(text):\n",
    "    data = re.sub(\"[^a-zA-Z]\",' ', text)\n",
    "    data = re.sub('[[^]]*]', ' ', data)\n",
    "    data = re.sub(r\"\\n\", \" \", data)\n",
    "    data = data.strip()\n",
    "    data = ' '.join(data.split())\n",
    "    return data\n",
    "\n",
    "def token_stopwords_lemma(text):\n",
    "    tokens = word_tokenize(text)\n",
    "    stop_words2 = ' '.join([word for word in tokens if word not in stop_words])\n",
    "    data = [lem.lemmatize(word) for word in stop_words2.split()]\n",
    "    data = ' '.join(data)\n",
    "    return data"
   ]
  },
  {
   "cell_type": "code",
   "execution_count": 11,
   "metadata": {},
   "outputs": [],
   "source": [
    "inf = [\"My first time trying this and fall in love instantly! I use it as primer. Makes my makeup look smooth and stays the whole day\",\"It wasn’t a great base for my foundation. My foundation slid all over my face while applying. It rubbed off time i started setting my face! It wasn’t tacky at all. But it was moisturizing\"]"
   ]
  },
  {
   "cell_type": "code",
   "execution_count": 12,
   "metadata": {},
   "outputs": [],
   "source": [
    "# convert to dataframe\n",
    "df1= pd.DataFrame()\n",
    "df1['Review_Text'] = inf"
   ]
  },
  {
   "cell_type": "code",
   "execution_count": 13,
   "metadata": {},
   "outputs": [
    {
     "name": "stderr",
     "output_type": "stream",
     "text": [
      "C:\\Users\\Hanifah\\AppData\\Local\\Temp\\ipykernel_6928\\714082318.py:17: FutureWarning: Possible nested set at position 1\n",
      "  data = re.sub('[[^]]*]', ' ', data)\n"
     ]
    }
   ],
   "source": [
    "df1['Review_Text'] = df1['Review_Text'].apply(lambda j: check_chatwords(j))\n",
    "df1['Review_Text'] = df1['Review_Text'].apply(lambda k: lower(k))\n",
    "df1['Review_Text'] = df1['Review_Text'].apply(lambda l: check_abbr(l))\n",
    "df1['Review_Text'] = df1['Review_Text'].apply(lambda m: check_punctuation(m))\n",
    "df1['Review_Text'] = df1['Review_Text'].apply(lambda n: token_stopwords_lemma(n))"
   ]
  },
  {
   "cell_type": "code",
   "execution_count": 14,
   "metadata": {},
   "outputs": [
    {
     "name": "stdout",
     "output_type": "stream",
     "text": [
      "1/1 [==============================] - 1s 1s/step\n"
     ]
    },
    {
     "data": {
      "text/plain": [
       "array([[0],\n",
       "       [0]])"
      ]
     },
     "execution_count": 14,
     "metadata": {},
     "output_type": "execute_result"
    }
   ],
   "source": [
    "model = model_dnn.predict(df1[['Review_Text']])\n",
    "model=np.where(model >=0.5, 1, 0)\n",
    "model"
   ]
  },
  {
   "cell_type": "code",
   "execution_count": 15,
   "metadata": {},
   "outputs": [
    {
     "data": {
      "text/html": [
       "<div>\n",
       "<style scoped>\n",
       "    .dataframe tbody tr th:only-of-type {\n",
       "        vertical-align: middle;\n",
       "    }\n",
       "\n",
       "    .dataframe tbody tr th {\n",
       "        vertical-align: top;\n",
       "    }\n",
       "\n",
       "    .dataframe thead th {\n",
       "        text-align: right;\n",
       "    }\n",
       "</style>\n",
       "<table border=\"1\" class=\"dataframe\">\n",
       "  <thead>\n",
       "    <tr style=\"text-align: right;\">\n",
       "      <th></th>\n",
       "      <th>Pred_review</th>\n",
       "    </tr>\n",
       "  </thead>\n",
       "  <tbody>\n",
       "    <tr>\n",
       "      <th>0</th>\n",
       "      <td>0</td>\n",
       "    </tr>\n",
       "    <tr>\n",
       "      <th>1</th>\n",
       "      <td>0</td>\n",
       "    </tr>\n",
       "  </tbody>\n",
       "</table>\n",
       "</div>"
      ],
      "text/plain": [
       "   Pred_review\n",
       "0            0\n",
       "1            0"
      ]
     },
     "execution_count": 15,
     "metadata": {},
     "output_type": "execute_result"
    }
   ],
   "source": [
    "df_pred_model = pd.DataFrame(model, columns=['Pred_review']) \n",
    "df_pred_model"
   ]
  },
  {
   "cell_type": "code",
   "execution_count": 16,
   "metadata": {},
   "outputs": [
    {
     "data": {
      "text/html": [
       "<div>\n",
       "<style scoped>\n",
       "    .dataframe tbody tr th:only-of-type {\n",
       "        vertical-align: middle;\n",
       "    }\n",
       "\n",
       "    .dataframe tbody tr th {\n",
       "        vertical-align: top;\n",
       "    }\n",
       "\n",
       "    .dataframe thead th {\n",
       "        text-align: right;\n",
       "    }\n",
       "</style>\n",
       "<table border=\"1\" class=\"dataframe\">\n",
       "  <thead>\n",
       "    <tr style=\"text-align: right;\">\n",
       "      <th></th>\n",
       "      <th>Review_Text</th>\n",
       "      <th>Pred_review</th>\n",
       "    </tr>\n",
       "  </thead>\n",
       "  <tbody>\n",
       "    <tr>\n",
       "      <th>0</th>\n",
       "      <td>first time trying fall love instantly use prim...</td>\n",
       "      <td>0</td>\n",
       "    </tr>\n",
       "    <tr>\n",
       "      <th>1</th>\n",
       "      <td>great base foundation foundation slid face app...</td>\n",
       "      <td>0</td>\n",
       "    </tr>\n",
       "  </tbody>\n",
       "</table>\n",
       "</div>"
      ],
      "text/plain": [
       "                                         Review_Text  Pred_review\n",
       "0  first time trying fall love instantly use prim...            0\n",
       "1  great base foundation foundation slid face app...            0"
      ]
     },
     "execution_count": 16,
     "metadata": {},
     "output_type": "execute_result"
    }
   ],
   "source": [
    "df_combined = pd.concat([df1, df_pred_model], axis=1)\n",
    "df_combined"
   ]
  },
  {
   "cell_type": "code",
   "execution_count": null,
   "metadata": {},
   "outputs": [],
   "source": []
  }
 ],
 "metadata": {
  "kernelspec": {
   "display_name": "base",
   "language": "python",
   "name": "python3"
  },
  "language_info": {
   "codemirror_mode": {
    "name": "ipython",
    "version": 3
   },
   "file_extension": ".py",
   "mimetype": "text/x-python",
   "name": "python",
   "nbconvert_exporter": "python",
   "pygments_lexer": "ipython3",
   "version": "3.9.15"
  },
  "orig_nbformat": 4
 },
 "nbformat": 4,
 "nbformat_minor": 2
}
